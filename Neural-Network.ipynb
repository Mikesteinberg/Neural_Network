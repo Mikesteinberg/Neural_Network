{
 "cells": [
  {
   "cell_type": "markdown",
   "metadata": {},
   "source": [
    "<h1><center>Creating a Neural Network From Scratch</center></h1>"
   ]
  },
  {
   "cell_type": "markdown",
   "metadata": {},
   "source": [
    "### Import Modules"
   ]
  },
  {
   "cell_type": "code",
   "execution_count": 1638,
   "metadata": {},
   "outputs": [
    {
     "name": "stdout",
     "output_type": "stream",
     "text": [
      "Once deleted, variables cannot be recovered. Proceed (y/[n])? y\n"
     ]
    }
   ],
   "source": [
    "%reset\n",
    "import numpy as np\n",
    "import pandas as pd\n",
    "from scipy.io import loadmat\n",
    "%matplotlib inline \n",
    "import matplotlib.pyplot as plt"
   ]
  },
  {
   "cell_type": "markdown",
   "metadata": {},
   "source": [
    "### Import Data"
   ]
  },
  {
   "cell_type": "code",
   "execution_count": 1639,
   "metadata": {},
   "outputs": [],
   "source": [
    "dataMat = loadmat(\"ex4data1.mat\")\n",
    "X = dataMat[\"X\"]\n",
    "y = dataMat[\"y\"]"
   ]
  },
  {
   "cell_type": "markdown",
   "metadata": {},
   "source": [
    "## Helper Functions"
   ]
  },
  {
   "cell_type": "markdown",
   "metadata": {},
   "source": [
    "### One Vs All Y"
   ]
  },
  {
   "cell_type": "code",
   "execution_count": 1640,
   "metadata": {},
   "outputs": [],
   "source": [
    "def one_vs_all(y, num_labels):\n",
    "    tmp = np.eye(num_labels)\n",
    "    y_k = tmp[y-1, :]\n",
    "    return np.squeeze(y_k)"
   ]
  },
  {
   "cell_type": "markdown",
   "metadata": {},
   "source": [
    "### Sigmoid"
   ]
  },
  {
   "cell_type": "code",
   "execution_count": 1641,
   "metadata": {},
   "outputs": [],
   "source": [
    "def sigmoid(z):\n",
    "    return 1 / (1 + np.exp(-z)) "
   ]
  },
  {
   "cell_type": "markdown",
   "metadata": {},
   "source": [
    "### Sigmoid Gradient"
   ]
  },
  {
   "cell_type": "code",
   "execution_count": 1642,
   "metadata": {},
   "outputs": [],
   "source": [
    "def sigmoidGrad(z):\n",
    "    return sigmoid(z) * (1 - sigmoid(z))"
   ]
  },
  {
   "cell_type": "markdown",
   "metadata": {},
   "source": [
    "### Make predictions"
   ]
  },
  {
   "cell_type": "code",
   "execution_count": 1643,
   "metadata": {},
   "outputs": [],
   "source": [
    "def predict(Theta1, Theta2, X):\n",
    "    # Number of training examples\n",
    "    m = X.shape[0]\n",
    "    # Number of labels\n",
    "    num_labels = Theta2.shape[0]\n",
    "    # Compute Hidden layer Activation\n",
    "    h1 = sigmoid(np.append(np.ones((X.shape[0], 1)), X, axis=1) @ Theta1.transpose())\n",
    "    # Compute Output Layer Activation\n",
    "    h2 = sigmoid(np.append(np.ones((X.shape[0], 1)), h1, axis=1) @ Theta2.transpose())\n",
    "    # Return the index (shifted over one) where the max value is\n",
    "    return np.argmax(h2, axis=1) + 1"
   ]
  },
  {
   "cell_type": "markdown",
   "metadata": {},
   "source": [
    "## Core Neural Network Functions"
   ]
  },
  {
   "cell_type": "markdown",
   "metadata": {},
   "source": [
    "### Weight Initializer "
   ]
  },
  {
   "cell_type": "code",
   "execution_count": 1644,
   "metadata": {},
   "outputs": [],
   "source": [
    "def randInitializeWeights(L_in, L_out):\n",
    "    epsilon_init = 0.12;\n",
    "    return np.random.rand(L_out, 1 + L_in) * 2 * epsilon_init - epsilon_init;"
   ]
  },
  {
   "cell_type": "markdown",
   "metadata": {},
   "source": [
    "### Gradient Descent "
   ]
  },
  {
   "cell_type": "code",
   "execution_count": 1645,
   "metadata": {},
   "outputs": [],
   "source": [
    "def gradient_descent(Theta1, Theta2, X, y, lam, alpha, num_iters, num_labels):\n",
    "    \n",
    "    # Initialize Cost History\n",
    "    J_History = []\n",
    "    \n",
    "    # Get the number of examples\n",
    "    m = X.shape[0]\n",
    "    \n",
    "    # Repeat for all the iterations\n",
    "    for i in range(num_iters):\n",
    "        \n",
    "        # Calculate the cost and gradients\n",
    "        [J, Theta1_grad, Theta2_grad] = cost(X, y, lam, num_labels, Theta1, Theta2)\n",
    "        \n",
    "        # Update thetas based on their respective gradients\n",
    "        Theta1 = Theta1 - Theta1_grad * alpha\n",
    "        Theta2 = Theta2 - Theta2_grad * alpha \n",
    "        \n",
    "        # Append the cost to J_History\n",
    "        J_History.append(J)\n",
    "        \n",
    "    return [J_History, Theta1, Theta2]"
   ]
  },
  {
   "cell_type": "markdown",
   "metadata": {},
   "source": [
    "### Cost Function"
   ]
  },
  {
   "cell_type": "code",
   "execution_count": 1646,
   "metadata": {},
   "outputs": [],
   "source": [
    "def cost(X, y, lam, num_labels, Theta1, Theta2):\n",
    "    \n",
    "    # Calculate Number of examples\n",
    "    m = X.shape[0]\n",
    "\n",
    "    # K is the number of outputs\n",
    "    K = num_labels\n",
    "\n",
    "    # Hot Encode Y\n",
    "    y_k = one_vs_all(y, num_labels)\n",
    "\n",
    "    # Feed Forward\n",
    "    # Activation of First layer is just the inputs\n",
    "    a1 = np.append(np.ones((m, 1)), X, axis=1)\n",
    "    \n",
    "    # Calculate activation of hidden layer\n",
    "    z2 = np.dot(a1, Theta1.transpose())\n",
    "    a2 = np.append(np.ones((z2.shape[0], 1)), sigmoid(z2), axis=1)\n",
    "\n",
    "    # Calculate activation of output layer\n",
    "    z3 = np.dot(a2, Theta2.transpose())\n",
    "    a3 = sigmoid(z3)\n",
    "    \n",
    "    # Our hypothesis is just the activation of the output layer\n",
    "    h = a3\n",
    "\n",
    "    # Calculate Penalty\n",
    "    p = np.sum(np.sum(np.square(Theta1[:, 1:]), axis=1)) + np.sum(np.sum(np.square(Theta2[:, 1:]), axis=1))\n",
    "\n",
    "    # Calculate Cost\n",
    "    J = (1/m) * np.sum(np.sum(-y_k * np.log(h) - (1 - y_k) * np.log(1-h), axis=1)) + (lam * p)/ (2 * m)\n",
    "\n",
    "    # Calculate Deltas (Backpropogate)\n",
    "    # Error of output layer\n",
    "    delta3 = a3 - y_k\n",
    "    \n",
    "    # Calculate error of hidden layer\n",
    "    delta2 = delta3 @ Theta2 * sigmoidGrad(np.append(np.ones((z2.shape[0], 1)), z2, axis=1))\n",
    "\n",
    "    # Remove bias node from hidden layer\n",
    "    delta2 = delta2[:, 1:]\n",
    "\n",
    "    # Calculate Total Error\n",
    "    Delta1 = delta2.transpose() @ a1\n",
    "    Delta2 = delta3.transpose() @ a2\n",
    "\n",
    "    # Calculate gradients for Theta1 and Theta2\n",
    "    Theta1_grad = (1 / m) * Delta1 + (lam / m) * np.append(np.zeros((Theta1.shape[0],1)), Theta1[:, 1:], axis=1)\n",
    "    Theta2_grad = (1 / m) * Delta2 + (lam / m) * np.append(np.zeros((Theta2.shape[0],1)), Theta2[:, 1:], axis=1)\n",
    "\n",
    "    return [J, Theta1_grad, Theta2_grad]"
   ]
  },
  {
   "cell_type": "markdown",
   "metadata": {},
   "source": [
    "### Initialize Neural Network Hyperparameters"
   ]
  },
  {
   "cell_type": "markdown",
   "metadata": {},
   "source": [
    "Learning Rate"
   ]
  },
  {
   "cell_type": "code",
   "execution_count": 1647,
   "metadata": {},
   "outputs": [],
   "source": [
    "alpha = .2"
   ]
  },
  {
   "cell_type": "markdown",
   "metadata": {},
   "source": [
    "Number of iterations"
   ]
  },
  {
   "cell_type": "code",
   "execution_count": 1648,
   "metadata": {},
   "outputs": [],
   "source": [
    "num_iters = 1500"
   ]
  },
  {
   "cell_type": "markdown",
   "metadata": {},
   "source": [
    "Regularization Constant"
   ]
  },
  {
   "cell_type": "code",
   "execution_count": 1649,
   "metadata": {},
   "outputs": [],
   "source": [
    "lam = 10"
   ]
  },
  {
   "cell_type": "code",
   "execution_count": 1650,
   "metadata": {},
   "outputs": [],
   "source": [
    "num_labels = 10"
   ]
  },
  {
   "cell_type": "markdown",
   "metadata": {},
   "source": [
    "### Initialize Weights"
   ]
  },
  {
   "cell_type": "code",
   "execution_count": 1651,
   "metadata": {},
   "outputs": [],
   "source": [
    "initial_Theta1 = randInitializeWeights(400, 25)\n",
    "initial_Theta2 = randInitializeWeights(25, 10)"
   ]
  },
  {
   "cell_type": "markdown",
   "metadata": {},
   "source": [
    "## Train Neural Network"
   ]
  },
  {
   "cell_type": "markdown",
   "metadata": {},
   "source": [
    "### Perform Gradient Descent"
   ]
  },
  {
   "cell_type": "code",
   "execution_count": 1652,
   "metadata": {},
   "outputs": [],
   "source": [
    "[J_History, Theta1, Theta2] = gradient_descent(initial_Theta1, initial_Theta2, X, y, lam, alpha,\n",
    "                                               num_iters, num_labels)"
   ]
  },
  {
   "cell_type": "markdown",
   "metadata": {},
   "source": [
    "### Plot Cost Function"
   ]
  },
  {
   "cell_type": "code",
   "execution_count": 1653,
   "metadata": {},
   "outputs": [
    {
     "name": "stdout",
     "output_type": "stream",
     "text": [
      "Final Cost After Training: 1.1364479179773552\n"
     ]
    },
    {
     "data": {
      "image/png": "[encoded data removed]",
      "text/plain": [
       "<Figure size 432x288 with 1 Axes>"
      ]
     },
     "metadata": {
      "needs_background": "light"
     },
     "output_type": "display_data"
    }
   ],
   "source": [
    "plt.plot(J_History)\n",
    "plt.title(\"Cost Function\")\n",
    "plt.ylabel(\"Cost\")\n",
    "plt.xlabel(\"Iterations\")\n",
    "print(\"Final Cost After Training:\", J_History[-1])\n"
   ]
  },
  {
   "cell_type": "markdown",
   "metadata": {},
   "source": [
    "### Make predictions and evaluate accuracy"
   ]
  },
  {
   "cell_type": "code",
   "execution_count": 1654,
   "metadata": {},
   "outputs": [
    {
     "name": "stdout",
     "output_type": "stream",
     "text": [
      "Neural Network Accuracy: 90.8%\n"
     ]
    }
   ],
   "source": [
    "p = predict(Theta1, Theta2, X)\n",
    "print(\"Neural Network Accuracy: \" + str(np.mean(p == np.squeeze(y)) * 100) + \"%\")"
   ]
  }
 ],
 "metadata": {
  "kernelspec": {
   "display_name": "Python 3",
   "language": "python",
   "name": "python3"
  },
  "language_info": {
   "codemirror_mode": {
    "name": "ipython",
    "version": 3
   },
   "file_extension": ".py",
   "mimetype": "text/x-python",
   "name": "python",
   "nbconvert_exporter": "python",
   "pygments_lexer": "ipython3",
   "version": "3.7.4"
  }
 },
 "nbformat": 4,
 "nbformat_minor": 2
}
